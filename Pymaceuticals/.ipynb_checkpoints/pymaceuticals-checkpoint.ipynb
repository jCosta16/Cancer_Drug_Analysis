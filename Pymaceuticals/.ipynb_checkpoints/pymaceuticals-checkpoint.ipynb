{
 "cells": [
  {
   "cell_type": "code",
   "execution_count": null,
   "metadata": {},
   "outputs": [],
   "source": [
    "# Dependencies and Setup\n",
    "%matplotlib inline\n",
    "import matplotlib.pyplot as plt\n",
    "import pandas as pd\n",
    "import numpy as np\n",
    "import random"
   ]
  },
  {
   "cell_type": "code",
   "execution_count": null,
   "metadata": {},
   "outputs": [],
   "source": [
    "# Hide warning messages in notebook\n",
    "import warnings\n",
    "warnings.filterwarnings('ignore')"
   ]
  },
  {
   "cell_type": "code",
   "execution_count": null,
   "metadata": {},
   "outputs": [],
   "source": [
    "# File to Load (Remember to Change These)\n",
    "mouse_drug_data_to_load = \"data/mouse_drug_data.csv\"\n",
    "clinical_trial_data_to_load = \"data/clinicaltrial_data.csv\"\n",
    "\n",
    "mouse_drug_df = pd.read_csv(mouse_drug_data_to_load)\n",
    "clinical_trial_df = pd.read_csv(clinical_trial_data_to_load)"
   ]
  },
  {
   "cell_type": "code",
   "execution_count": null,
   "metadata": {},
   "outputs": [],
   "source": [
    "# Combine the data into a single dataset\n",
    "combined_df = pd.merge(clinical_trial_df,mouse_drug_df, how= \"left\")\n",
    "# Display the data table for preview\n",
    "combined_df"
   ]
  },
  {
   "cell_type": "markdown",
   "metadata": {},
   "source": [
    "## Tumor Response to Treatment"
   ]
  },
  {
   "cell_type": "code",
   "execution_count": null,
   "metadata": {},
   "outputs": [],
   "source": [
    "grouped_drug = combined_df[[\"Timepoint\", \"Tumor Volume (mm3)\", \"Drug\"]]\n",
    "grouped_drug\n"
   ]
  },
  {
   "cell_type": "code",
   "execution_count": null,
   "metadata": {},
   "outputs": [],
   "source": [
    "# Store the Mean Tumor Volume Data Grouped by Drug and Timepoint \n",
    "grouped_drug_mean = pd.DataFrame(grouped_drug.groupby([\"Drug\",\"Timepoint\"],as_index = False).mean())\n",
    "grouped_drug_mean"
   ]
  },
  {
   "cell_type": "code",
   "execution_count": null,
   "metadata": {},
   "outputs": [],
   "source": [
    "# Store the Standard Error of Tumor Volumes Grouped by Drug and Timepoint\n",
    "grouped_drug_sem = pd.DataFrame(grouped_drug.groupby([\"Drug\",\"Timepoint\"]).sem().reset_index())\n",
    "grouped_sem_reform = grouped_drug_sem.pivot(index='Timepoint', columns='Drug', values='Tumor Volume (mm3)')\n",
    "grouped_sem_reform"
   ]
  },
  {
   "cell_type": "code",
   "execution_count": null,
   "metadata": {},
   "outputs": [],
   "source": [
    "# Minor Data Munging to Re-Format the Data Frames\n",
    "grouped_mean_reform = grouped_drug_mean.pivot(index='Timepoint', columns='Drug', values='Tumor Volume (mm3)')\n",
    "\n",
    "# Preview that Reformatting worked\n",
    "grouped_mean_reform"
   ]
  },
  {
   "cell_type": "code",
   "execution_count": null,
   "metadata": {},
   "outputs": [],
   "source": [
    "x_axis = list(grouped_mean_reform.index)"
   ]
  },
  {
   "cell_type": "code",
   "execution_count": null,
   "metadata": {},
   "outputs": [],
   "source": [
    "mean_drug = []\n",
    "for x in grouped_mean_reform:\n",
    "    mean_drug.append(list(grouped_mean_reform[x]))\n"
   ]
  },
  {
   "cell_type": "code",
   "execution_count": null,
   "metadata": {},
   "outputs": [],
   "source": [
    "standard_errors_drug = []\n",
    "for x in grouped_sem_reform:\n",
    "    standard_errors_drug.append(list(grouped_sem_reform[x]))\n"
   ]
  },
  {
   "cell_type": "code",
   "execution_count": null,
   "metadata": {},
   "outputs": [],
   "source": [
    "columns = [x for x in grouped_mean_reform]\n"
   ]
  },
  {
   "cell_type": "code",
   "execution_count": null,
   "metadata": {},
   "outputs": [],
   "source": [
    "formats = [':o','--v','-^','-.<','-s']\n",
    "\n",
    "fig, ax = plt.subplots(figsize=(15, 10))\n",
    "\n",
    "i = 0\n",
    "for x in columns:\n",
    "    ax.errorbar(x_axis, mean_drug[i], standard_errors_drug[i], fmt=random.choice(formats) )\n",
    "    i=i+1\n",
    "\n",
    "handles = columns\n",
    "ax.set_title('Tumor Response to Treatment', fontweight = \"bold\", fontsize = 15)\n",
    "ax.set_xlim(-1,46)\n",
    "ax.set_xlabel(\"Time (Days)\")\n",
    "ax.set_ylabel(\"Tumor Volume (mm3)\")\n",
    "ax.legend(handles, loc=\"best\", prop={'size': 12})\n",
    "ax.grid(axis = \"y\")\n",
    "plt.savefig(\"Images/01_tumor_response.png\", dpi=fig.dpi)\n",
    "plt.show()"
   ]
  },
  {
   "cell_type": "markdown",
   "metadata": {},
   "source": [
    "## Metastatic Response to Treatment"
   ]
  },
  {
   "cell_type": "code",
   "execution_count": null,
   "metadata": {},
   "outputs": [],
   "source": [
    "grouped_met = combined_df[[\"Timepoint\", \"Metastatic Sites\", \"Drug\"]]\n",
    "grouped_met"
   ]
  },
  {
   "cell_type": "code",
   "execution_count": null,
   "metadata": {},
   "outputs": [],
   "source": [
    "# Store the Mean Met. Site Data Grouped by Drug and Timepoint \n",
    "grouped_met_mean = pd.DataFrame(grouped_met.groupby([\"Drug\",\"Timepoint\"],as_index = False).mean())\n",
    "grouped_met_mean"
   ]
  },
  {
   "cell_type": "code",
   "execution_count": null,
   "metadata": {},
   "outputs": [],
   "source": [
    "# Store the Standard Error associated with Met. Sites Grouped by Drug and Timepoint \n",
    "grouped_met_sem = pd.DataFrame(grouped_met.groupby([\"Drug\",\"Timepoint\"]).sem().reset_index())\n",
    "grouped_met_sem"
   ]
  },
  {
   "cell_type": "code",
   "execution_count": null,
   "metadata": {},
   "outputs": [],
   "source": [
    "# Convert to DataFrame\n",
    "grouped_met_sem_reform = grouped_met_sem.pivot(index='Timepoint', columns='Drug', values='Metastatic Sites')\n",
    "grouped_met_sem_reform\n",
    "\n",
    "# Preview DataFrame"
   ]
  },
  {
   "cell_type": "code",
   "execution_count": null,
   "metadata": {},
   "outputs": [],
   "source": [
    "# Minor Data Munging to Re-Format the Data Frames\n",
    "grouped_met_mean_reform = grouped_met_mean.pivot(index='Timepoint', columns='Drug', values='Metastatic Sites')\n",
    "\n",
    "# Preview that Reformatting worked\n",
    "grouped_met_mean_reform"
   ]
  },
  {
   "cell_type": "code",
   "execution_count": null,
   "metadata": {},
   "outputs": [],
   "source": [
    "mean_met = []\n",
    "for x in grouped_met_mean_reform:\n",
    "    mean_met.append(list(grouped_met_mean_reform[x]))\n"
   ]
  },
  {
   "cell_type": "code",
   "execution_count": null,
   "metadata": {},
   "outputs": [],
   "source": [
    "standard_errors_met = []\n",
    "for x in grouped_met_sem_reform:\n",
    "    standard_errors_met.append(list(grouped_met_sem_reform[x]))\n"
   ]
  },
  {
   "cell_type": "code",
   "execution_count": null,
   "metadata": {},
   "outputs": [],
   "source": [
    "formats = [':o','--v','-^','-.<','-s']\n",
    "\n",
    "fig, ax = plt.subplots(figsize=(15, 10))\n",
    "\n",
    "i = 0\n",
    "for x in columns:\n",
    "    ax.errorbar(x_axis, mean_met[i], standard_errors_met[i], fmt=random.choice(formats) )\n",
    "    i=i+1\n",
    "\n",
    "handles = columns\n",
    "ax.set_title('Metastatic Spread During Treatment', fontweight = \"bold\", fontsize = 15)\n",
    "#ax.setfigsize()\n",
    "ax.set_xlim(-1,46)\n",
    "ax.set_xlabel(\"Treatment Duration (Days)\")\n",
    "ax.set_ylabel(\"Metastatic Sites\")\n",
    "ax.legend(handles, loc=\"best\", prop={'size': 12})\n",
    "ax.grid(axis = \"y\")\n",
    "plt.tight_layout()\n",
    "plt.savefig(\"Images/02_spread.png\", dpi=fig.dpi)\n",
    "plt.show()"
   ]
  },
  {
   "cell_type": "markdown",
   "metadata": {},
   "source": [
    "## Survival Rates"
   ]
  },
  {
   "cell_type": "code",
   "execution_count": null,
   "metadata": {},
   "outputs": [],
   "source": [
    "grouped_mouse_count = combined_df[[\"Timepoint\", \"Mouse ID\", \"Drug\"]]\n",
    "grouped_mouse_count"
   ]
  },
  {
   "cell_type": "code",
   "execution_count": null,
   "metadata": {},
   "outputs": [],
   "source": [
    "grouped_mouse_count = pd.DataFrame(grouped_mouse_count.groupby([\"Drug\",\"Timepoint\"],as_index = False).count())\n",
    "grouped_mouse_count"
   ]
  },
  {
   "cell_type": "code",
   "execution_count": null,
   "metadata": {},
   "outputs": [],
   "source": [
    "grouped_mouse_count_reform = grouped_mouse_count.pivot(index='Timepoint', columns='Drug', values='Mouse ID')\n",
    "grouped_mouse_count_reform"
   ]
  },
  {
   "cell_type": "code",
   "execution_count": null,
   "metadata": {},
   "outputs": [],
   "source": [
    "mouse_count = []\n",
    "for x in grouped_mouse_count_reform:\n",
    "    mouse_count.append(list(grouped_mouse_count_reform[x]))"
   ]
  },
  {
   "cell_type": "code",
   "execution_count": null,
   "metadata": {},
   "outputs": [],
   "source": [
    "# Saving a list with the % values \n",
    "\n",
    "i=0\n",
    "count_percent = []\n",
    "for x in columns:\n",
    "    count_drug = mouse_count[i]\n",
    "    d = 0\n",
    "    drug_percent = []\n",
    "    for y in count_drug:\n",
    "        value = (mouse_count[i][d]/mouse_count[i][0])*100\n",
    "        #(ex.: mouse_count[0][5] = 22)\n",
    "        drug_percent.append(value)\n",
    "        d = d + 1\n",
    "    count_percent.append(drug_percent)\n",
    "    i=i+1"
   ]
  },
  {
   "cell_type": "code",
   "execution_count": null,
   "metadata": {},
   "outputs": [],
   "source": [
    "formats = ['o','v','^','<','s']\n",
    "\n",
    "fig, ax = plt.subplots(figsize=(15, 10), )\n",
    "\n",
    "i = 0\n",
    "for x in columns:\n",
    "    ax.plot(x_axis, count_percent[i], marker=random.choice(formats), ls=\"-\")\n",
    "    i=i+1\n",
    "\n",
    "handles = columns\n",
    "ax.set_title('Survival During Treatment', fontweight = \"bold\", fontsize = 15)\n",
    "ax.set_xlim(-1,47)\n",
    "ax.set_xlabel(\"Treatment Duration (Days)\")\n",
    "ax.set_ylabel(\"Survival Rates (%)\")\n",
    "ax.legend(handles, loc=\"best\", prop={'size': 12})\n",
    "plt.tight_layout()\n",
    "ax.grid()\n",
    "plt.savefig(\"Images/03_survival_rates.png\", dpi=fig.dpi)\n",
    "plt.show()"
   ]
  },
  {
   "cell_type": "markdown",
   "metadata": {},
   "source": [
    "## Summary Bar Graph"
   ]
  },
  {
   "cell_type": "code",
   "execution_count": null,
   "metadata": {},
   "outputs": [],
   "source": [
    "grouped_mean_reform"
   ]
  },
  {
   "cell_type": "code",
   "execution_count": null,
   "metadata": {},
   "outputs": [],
   "source": [
    "# Saving a list with the % values \n",
    "# Display the data to confirm\n",
    "i=0\n",
    "drug_percent = []\n",
    "for x in columns:\n",
    "    volume_drug = mean_drug[i]\n",
    "    d = 0\n",
    "    for y in mean_drug:\n",
    "        value = ((mean_drug[i][d] - mean_drug[i][0] )/mean_drug[i][0])*100\n",
    "        d = d + 1\n",
    "    drug_percent.append(value)\n",
    "    i=i+1\n",
    "drug_percent\n",
    "drug_percent_df = pd.DataFrame(drug_percent, columns)\n",
    "drug_percent_df.columns = [\"change\"]\n",
    "drug_percent_df"
   ]
  },
  {
   "cell_type": "code",
   "execution_count": null,
   "metadata": {},
   "outputs": [],
   "source": [
    "# Slice the data between passing and failing drugs\n",
    "# set placebo as minimum value for relevant failure\n",
    "\n",
    "selection = (drug_percent_df[\"change\"] < 0) | (drug_percent_df[\"change\"] >= 51.297960)\n",
    "relevant_drug_df = pd.DataFrame(data = drug_percent_df[selection])\n",
    "relevant_drug_df.reset_index(inplace=True)\n"
   ]
  },
  {
   "cell_type": "code",
   "execution_count": null,
   "metadata": {},
   "outputs": [],
   "source": [
    "relevant_drug_df = relevant_drug_df.rename(columns = {\"index\": \"Drug\"})"
   ]
  },
  {
   "cell_type": "code",
   "execution_count": null,
   "metadata": {},
   "outputs": [],
   "source": [
    "relevant_drug_df"
   ]
  },
  {
   "cell_type": "code",
   "execution_count": null,
   "metadata": {},
   "outputs": [],
   "source": [
    "# Use functions to label the percentages of changes\n",
    "# passing drugs are green failing drugs are red\n",
    "\n",
    "def drug_result(value):\n",
    "    if value >= 51.297960:\n",
    "        return \"r\"\n",
    "    else:\n",
    "        return \"g\""
   ]
  },
  {
   "cell_type": "code",
   "execution_count": null,
   "metadata": {},
   "outputs": [],
   "source": []
  },
  {
   "cell_type": "code",
   "execution_count": null,
   "metadata": {},
   "outputs": [],
   "source": [
    "fig, ax = plt.subplots(figsize=(15, 10))\n",
    "\n",
    "# Call functions to implement the function calls\n",
    "for index, row in relevant_drug_df.iterrows():\n",
    "    ax.bar(relevant_drug_df[\"Drug\"][index], relevant_drug_df[\"change\"][index], align=\"center\", facecolor = drug_result(relevant_drug_df[\"change\"][index] ))\n",
    "    if relevant_drug_df[\"change\"][index] > 0:\n",
    "        ax.text(relevant_drug_df[\"Drug\"][index], relevant_drug_df[\"change\"][index] +1,\\\n",
    "                 str(round(relevant_drug_df[\"change\"][index],2))+\"%\",\\\n",
    "                color='black', fontweight='bold',horizontalalignment='center')\n",
    "    else:\n",
    "        ax.text(relevant_drug_df[\"Drug\"][index], relevant_drug_df[\"change\"][index] -2,\\\n",
    "                str(round(relevant_drug_df[\"change\"][index],2))+\"%\",\\\n",
    "                color='black', fontweight='bold',horizontalalignment='center')\n",
    "\n",
    "ax.set_title('Tumor Change Over 45 Days of Treatment', fontweight = \"bold\", fontsize = 15)\n",
    "ax.set_ylabel(\"% Tumor Volume Change (Survival Rates (%)\")\n",
    "ax.grid(axis = \"y\")\n",
    "plt.savefig(\"Images/04_change.png\", dpi=fig.dpi)\n",
    "plt.show()\n",
    "\n",
    "        "
   ]
  },
  {
   "cell_type": "markdown",
   "metadata": {},
   "source": [
    "# Results Observations"
   ]
  },
  {
   "cell_type": "markdown",
   "metadata": {},
   "source": [
    " - During the treatment period, only 2 drugs were effective in reducing tumor volume. As shown in the chart below the drugs, Capomulin and Ramicane, managed to reduce tumor volume by 19% and 22% respectively. On the other hand, 3 drugs performed worse than the Placebo in terms of tumor volume reduction. Ketapril, Naftisol and Stelasyn showed the worst performances with a tumor size increase of 57%, 52.92% and 52.08% respectively."
   ]
  },
  {
   "cell_type": "markdown",
   "metadata": {},
   "source": [
    "![Tumor Change](Images/04_change.png)"
   ]
  },
  {
   "cell_type": "markdown",
   "metadata": {},
   "source": [
    " - Considering survival rate, again, Capomulin and Ramicane achieved the best results, with over 90% of subjects surviving at the end of the treatment period. Although some drugs obtained a result above Placebo in terms of tumor volume reduction, they did not perform well when analyzing the survival rate. Infubinol (34%) and Propriva (26%) achieved the two worst survival rates in the study, as shown in the chart below. Using only these two criteria, Survival Rate and Tumor Volume, one can assume that while they are more efficient than Placebo in reducing tumor volume, they can be very aggressive also to the subject's body.\n",
    "   "
   ]
  },
  {
   "cell_type": "markdown",
   "metadata": {},
   "source": [
    "![Survival Rates During Treatment](Images/03_survival_rates.png)"
   ]
  },
  {
   "cell_type": "markdown",
   "metadata": {},
   "source": [
    " - Regarding Metastatic spread during the treatment all but one drug performed better them the Placebo. The metastatic sites for the two most efficient drugs in the study, Capomulin and Ramicane, remained at levels below 1. Again indicating these drugs as a general good choice as cancer medicine."
   ]
  },
  {
   "cell_type": "markdown",
   "metadata": {},
   "source": [
    "![Tumor Spread](Images/02_spread.png)"
   ]
  },
  {
   "cell_type": "markdown",
   "metadata": {},
   "source": []
  },
  {
   "cell_type": "code",
   "execution_count": null,
   "metadata": {},
   "outputs": [],
   "source": []
  }
 ],
 "metadata": {
  "kernelspec": {
   "display_name": "Python 3",
   "language": "python",
   "name": "python3"
  },
  "language_info": {
   "codemirror_mode": {
    "name": "ipython",
    "version": 3
   },
   "file_extension": ".py",
   "mimetype": "text/x-python",
   "name": "python",
   "nbconvert_exporter": "python",
   "pygments_lexer": "ipython3",
   "version": "3.7.4"
  }
 },
 "nbformat": 4,
 "nbformat_minor": 2
}
